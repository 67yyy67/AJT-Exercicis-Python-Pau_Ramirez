{
 "cells": [
  {
   "cell_type": "markdown",
   "id": "4cf9cbc8",
   "metadata": {},
   "source": [
    "1"
   ]
  },
  {
   "cell_type": "code",
   "execution_count": 2,
   "id": "a30554f2",
   "metadata": {},
   "outputs": [
    {
     "name": "stdout",
     "output_type": "stream",
     "text": [
      "1 5\n"
     ]
    }
   ],
   "source": [
    "Llista = [1,1,2,3,5]\n",
    "print(Llista[0], Llista[-1])"
   ]
  },
  {
   "cell_type": "markdown",
   "id": "19c74a69",
   "metadata": {},
   "source": [
    "2"
   ]
  },
  {
   "cell_type": "code",
   "execution_count": 9,
   "id": "e4ab573c",
   "metadata": {},
   "outputs": [
    {
     "name": "stdout",
     "output_type": "stream",
     "text": [
      "['vermell', 'verd', 'blau']\n",
      "['vermell', 'verd', 'blau', 'groc']\n",
      "['vermell', 'negre', 'verd', 'blau', 'groc']\n",
      "['vermell', 'negre', 'blau', 'groc']\n"
     ]
    }
   ],
   "source": [
    "colors = [\"vermell\", \"verd\", \"blau\"]\n",
    "print (colors)\n",
    "colors += [\"groc\"]\n",
    "print (colors)\n",
    "colors.insert(1, \"negre\")\n",
    "print(colors)\n",
    "colors.remove(\"verd\")\n",
    "print(colors)"
   ]
  },
  {
   "cell_type": "markdown",
   "id": "d1320e4e",
   "metadata": {},
   "source": [
    "3"
   ]
  },
  {
   "cell_type": "code",
   "execution_count": 10,
   "id": "c19e0ea8",
   "metadata": {},
   "outputs": [
    {
     "name": "stdout",
     "output_type": "stream",
     "text": [
      "[1, 2, 3, 4, 5]\n"
     ]
    }
   ],
   "source": [
    "A = [1,2,3]\n",
    "B = [4,5]\n",
    "C = A + B\n",
    "print(C)"
   ]
  },
  {
   "cell_type": "markdown",
   "id": "ba2ee109",
   "metadata": {},
   "source": [
    "4"
   ]
  },
  {
   "cell_type": "code",
   "execution_count": 11,
   "id": "d42fb614",
   "metadata": {},
   "outputs": [
    {
     "name": "stdout",
     "output_type": "stream",
     "text": [
      "[0, 0, 0, 0, 0, 0, 0, 0, 0, 0, 0, 0, 0, 0, 0, 0, 0, 0, 0, 0, 0, 0, 0, 0, 0, 0, 0, 0, 0, 0, 0, 0, 0, 0, 0, 0, 0, 0, 0, 0, 0, 0, 0, 0, 0, 0, 0, 0, 0, 0, 0, 0, 0, 0, 0, 0, 0, 0, 0, 0, 0, 0, 0, 0, 0, 0, 0, 0, 0, 0, 0, 0, 0, 0, 0, 0, 0, 0, 0, 0, 0, 0, 0, 0, 0, 0, 0, 0, 0, 0, 0, 0, 0, 0, 0, 0, 0, 0, 0, 0, 0, 0, 0, 0, 0, 0, 0, 0, 0, 0, 0, 0, 0, 0, 0, 0, 0, 0, 0, 0, 0, 0, 0, 0, 0, 0, 0, 0, 0, 0, 0, 0, 0, 0, 0, 0, 0, 0, 0, 0, 0, 0, 0, 0, 0, 0, 0, 0, 0, 0, 0, 0, 0, 0, 0, 0, 0, 0, 0, 0, 0, 0, 0, 0, 0, 0, 0, 0, 0, 0, 0, 0, 0, 0, 0, 0, 0, 0, 0, 0, 0, 0, 0, 0, 0, 0, 0, 0, 0, 0, 0, 0, 0, 0, 0, 0, 0, 0, 0, 0, 0, 0, 0, 0, 0, 0, 0, 0, 0, 0, 0, 0, 0, 0, 0, 0, 0, 0, 0, 0, 0, 0, 0, 0, 0, 0, 0, 0, 0, 0, 0, 0, 0, 0, 0, 0, 0, 0, 0, 0, 0, 0, 0, 0, 0, 0, 0, 0, 0, 0, 0, 0, 0, 0, 0, 0, 0, 0, 0, 0, 0, 0, 0, 0, 0, 0, 0, 0, 0, 0, 0, 0, 0, 0, 0, 0, 0, 0, 0, 0, 0, 0, 0, 0, 0, 0, 0, 0, 0, 0, 0, 0, 0, 0, 0, 0, 0, 0, 0, 0, 0, 0, 0, 0, 0, 0, 0, 0, 0, 0, 0, 0, 0, 0, 0, 0, 0, 0, 0, 0, 0, 0, 0, 0, 0, 0, 0, 0, 0, 0, 0, 0, 0, 0, 0, 0, 0, 0, 0, 0, 0, 0, 0, 0, 0, 0, 0, 0, 0, 0, 0, 0, 0, 0, 0, 0, 0, 0, 0, 0, 0, 0, 0, 0, 0, 0, 0, 0, 0, 0, 0, 0, 0, 0, 0, 0, 0, 0, 0, 0, 0, 0, 0, 0, 0, 0, 0, 0, 0, 0, 0, 0, 0, 0, 0, 0, 0, 0, 0, 0, 0, 0, 0, 0, 0, 0, 0, 0, 0, 0, 0, 0, 0, 0, 0, 0, 0, 0, 0, 0, 0, 0, 0, 0, 0, 0, 0, 0, 0, 0, 0, 0, 0, 0, 0, 0, 0, 0, 0, 0, 0, 0, 0, 0, 0, 0, 0, 0, 0, 0, 0, 0, 0, 0, 0, 0, 0, 0, 0, 0, 0, 0, 0, 0, 0, 0, 0, 0, 0, 0, 0, 0, 0, 0, 0, 0, 0, 0, 0, 0, 0, 0, 0, 0, 0, 0, 0, 0, 0, 0, 0, 0, 0, 0, 0, 0, 0, 0, 0, 0, 0, 0, 0, 0, 0, 0, 0, 0, 0, 0, 0, 0, 0, 0, 0, 0, 0, 0, 0, 0, 0, 0, 0, 0, 0, 0, 0, 0, 0, 0, 0, 0, 0, 0, 0, 0, 0, 0, 0, 0, 0, 0, 0, 0, 0, 0, 0, 0, 0, 0, 0, 0, 0, 0, 0, 0, 0, 0, 0, 0, 0, 0, 0, 0, 0, 0, 0, 0, 0, 0, 0, 0, 0, 0, 0, 0, 0, 0, 0, 0, 0, 0, 0, 0, 0, 0, 0, 0, 0, 0, 0, 0, 0, 0, 0, 0, 0, 0, 0, 0, 0, 0, 0, 0, 0, 0, 0, 0, 0, 0, 0, 0, 0, 0, 0, 0, 0, 0, 0, 0, 0, 0, 0, 0, 0, 0, 0, 0, 0, 0, 0, 0, 0, 0, 0, 0, 0, 0, 0, 0, 0, 0, 0, 0, 0, 0, 0, 0, 0, 0, 0, 0, 0, 0, 0, 0, 0, 0, 0, 0, 0, 0, 0, 0, 0, 0, 0, 0, 0, 0, 0, 0, 0, 0, 0, 0, 0, 0, 0, 0, 0, 0, 0, 0, 0, 0, 0, 0, 0, 0, 0, 0, 0, 0, 0, 0, 0, 0, 0, 0, 0, 0, 0, 0, 0, 0, 0, 0, 0, 0, 0, 0, 0, 0, 0, 0, 0, 0, 0, 0, 0, 0, 0, 0, 0, 0, 0, 0, 0, 0, 0, 0, 0, 0, 0, 0, 0, 0, 0, 0, 0, 0, 0, 0, 0, 0, 0, 0, 0, 0, 0, 0, 0, 0, 0, 0, 0, 0, 0, 0, 0, 0, 0, 0, 0, 0, 0, 0, 0, 0, 0, 0, 0, 0, 0, 0, 0, 0, 0, 0, 0, 0, 0, 0, 0, 0, 0, 0, 0, 0, 0, 0, 0, 0, 0, 0, 0, 0, 0, 0, 0, 0, 0, 0, 0, 0, 0, 0, 0, 0, 0, 0, 0, 0, 0, 0, 0, 0, 0, 0, 0, 0, 0, 0, 0, 0, 0, 0, 0, 0, 0, 0, 0, 0, 0, 0, 0, 0, 0, 0, 0, 0, 0, 0, 0, 0, 0, 0, 0, 0, 0, 0, 0, 0, 0, 0, 0, 0, 0, 0, 0, 0, 0, 0, 0, 0, 0, 0, 0, 0, 0, 0, 0, 0, 0, 0, 0, 0, 0, 0, 0, 0, 0, 0, 0, 0, 0, 0, 0, 0, 0, 0, 0, 0, 0, 0, 0, 0, 0, 0, 0, 0, 0, 0, 0, 0, 0, 0, 0, 0, 0, 0, 0, 0, 0, 0, 0, 0, 0, 0, 0, 0, 0, 0, 0, 0, 0, 0, 0, 0, 0, 0, 0, 0, 0, 0, 0, 0, 0, 0, 0, 0, 0, 0, 0, 0, 0, 0, 0, 0, 0, 0, 0, 0, 0, 0, 0, 0, 0, 0, 0, 0, 0, 0, 0, 0, 0, 0, 0, 0, 0, 0, 0, 0, 0, 0, 0, 0, 0, 0, 0, 0, 0, 0, 0, 0, 0, 0, 0, 0, 0, 0, 0, 0, 0, 0, 0, 0, 0, 0]\n"
     ]
    }
   ],
   "source": [
    "a = [0]\n",
    "print(1000*a)"
   ]
  },
  {
   "cell_type": "markdown",
   "id": "d7aadaed",
   "metadata": {},
   "source": [
    "5"
   ]
  },
  {
   "cell_type": "code",
   "execution_count": 13,
   "id": "0733e21e",
   "metadata": {},
   "outputs": [
    {
     "name": "stdout",
     "output_type": "stream",
     "text": [
      "4\n",
      "99\n"
     ]
    }
   ],
   "source": [
    "nums = [10,20,30,40]\n",
    "nums[2] = 99\n",
    "print(len(nums))\n",
    "print(nums[-2])"
   ]
  },
  {
   "cell_type": "markdown",
   "id": "b2a69f75",
   "metadata": {},
   "source": [
    "6"
   ]
  },
  {
   "cell_type": "code",
   "execution_count": 45,
   "id": "ef6049ce",
   "metadata": {},
   "outputs": [
    {
     "name": "stdout",
     "output_type": "stream",
     "text": [
      "[5, 6, 7]\n",
      "[8, 9, 10]\n",
      "[5, 7, 9]\n",
      "[6, 8, 10]\n",
      "[10, 9, 8, 7, 6, 5]\n",
      "[5, 100, 101, 102, 9, 10]\n"
     ]
    }
   ],
   "source": [
    "l = [5,6,7,8,9,10]\n",
    "print(l[:3])\n",
    "print(l[-3:])\n",
    "print(l[::2])\n",
    "print(l[1::2])\n",
    "print(l[-1::-1])\n",
    "l[1:4] = [100,101,102]\n",
    "print(l)"
   ]
  },
  {
   "cell_type": "markdown",
   "id": "6635d383",
   "metadata": {},
   "source": [
    "7"
   ]
  },
  {
   "cell_type": "code",
   "execution_count": 34,
   "id": "6951dd09",
   "metadata": {},
   "outputs": [
    {
     "name": "stdout",
     "output_type": "stream",
     "text": [
      "['B', 'a', 'r', 'c']\n"
     ]
    }
   ],
   "source": [
    "paraula = \"Barcelona\"\n",
    "lletres = [i for i in paraula]\n",
    "print(lletres[0:4])\n"
   ]
  },
  {
   "cell_type": "markdown",
   "id": "85a036ba",
   "metadata": {},
   "source": [
    "8"
   ]
  },
  {
   "cell_type": "code",
   "execution_count": 35,
   "id": "c2311f5f",
   "metadata": {},
   "outputs": [
    {
     "name": "stdout",
     "output_type": "stream",
     "text": [
      "['H!', 'O!', 'L!', 'A!']\n"
     ]
    }
   ],
   "source": [
    "a = \"Hola\"\n",
    "b = \"!\"\n",
    "llista = [i.upper() + b for i in a]\n",
    "print(llista)"
   ]
  },
  {
   "cell_type": "markdown",
   "id": "2504ed48",
   "metadata": {},
   "source": [
    "9"
   ]
  },
  {
   "cell_type": "code",
   "execution_count": 43,
   "id": "22ea6fe9",
   "metadata": {},
   "outputs": [
    {
     "name": "stdout",
     "output_type": "stream",
     "text": [
      "2\n",
      "2\n",
      "['Anna', 'Júlia', 'Marc', 'Marc', 'Pau', 'Pau']\n",
      "['Pau', 'Pau', 'Marc', 'Marc', 'Júlia', 'Anna']\n"
     ]
    }
   ],
   "source": [
    "noms = [\"Anna\",\"Marc\",\"Pau\",\"Júlia\",\"Pau\",\"Marc\"]\n",
    "print(noms.count(\"Marc\"))\n",
    "print(noms.index(\"Pau\"))\n",
    "noms.sort()\n",
    "print(noms)\n",
    "noms.reverse()\n",
    "print(noms)"
   ]
  },
  {
   "cell_type": "markdown",
   "id": "b9d5113d",
   "metadata": {},
   "source": [
    "10"
   ]
  },
  {
   "cell_type": "code",
   "execution_count": 48,
   "id": "3b590338",
   "metadata": {},
   "outputs": [
    {
     "name": "stdout",
     "output_type": "stream",
     "text": [
      "9\n",
      "[3, 4, 1, 5]\n"
     ]
    }
   ],
   "source": [
    "x = [3,1,4,1,5,9]\n",
    "x.remove(1)\n",
    "print(x.pop())\n",
    "print(x)"
   ]
  },
  {
   "cell_type": "markdown",
   "id": "8e72bb8c",
   "metadata": {},
   "source": [
    "11"
   ]
  },
  {
   "cell_type": "code",
   "execution_count": 51,
   "id": "ffd5f753",
   "metadata": {},
   "outputs": [
    {
     "name": "stdout",
     "output_type": "stream",
     "text": [
      "[3, 5, 3]\n",
      "['SOL', 'LLUNA', 'MAR']\n"
     ]
    }
   ],
   "source": [
    "paraules = [\"sol\",\"lluna\",\"mar\"]\n",
    "longituds_paraules = [len(i) for i in paraules]\n",
    "print(longituds_paraules)\n",
    "paraulesM = [i.upper() for i in paraules]\n",
    "print(paraulesM)"
   ]
  },
  {
   "cell_type": "markdown",
   "id": "7f3a9507",
   "metadata": {},
   "source": [
    "12"
   ]
  },
  {
   "cell_type": "code",
   "execution_count": 1,
   "id": "4eb4c46c",
   "metadata": {},
   "outputs": [
    {
     "name": "stdout",
     "output_type": "stream",
     "text": [
      "El-python-és-una-passada,-brutal.\n"
     ]
    }
   ],
   "source": [
    "frase = \"El python és una passada, brutal.\"\n",
    "llista_paraules = frase.split(\" \")\n",
    "llista_2 = [el + \"-\" for el in llista_paraules]\n",
    "fraseg = f\"{llista_paraules[0]}-{llista_paraules[1]}-{llista_paraules[2]}-{llista_paraules[3]}-{llista_paraules[4]}-{llista_paraules[5]}\"\n",
    "print(fraseg)"
   ]
  },
  {
   "cell_type": "code",
   "execution_count": null,
   "id": "2e1f8374",
   "metadata": {},
   "outputs": [
    {
     "data": {
      "text/plain": [
       "'El-python-és-una-passada,-brutal.'"
      ]
     },
     "execution_count": 5,
     "metadata": {},
     "output_type": "execute_result"
    }
   ],
   "source": [
    "text = \"\"\n",
    "for el in llista_2:\n",
    "    text += el\n",
    "text = text[:-1]\n",
    "print(text)"
   ]
  },
  {
   "cell_type": "markdown",
   "id": "5065eb96",
   "metadata": {},
   "source": [
    "13"
   ]
  },
  {
   "cell_type": "code",
   "execution_count": 45,
   "id": "110753c6",
   "metadata": {},
   "outputs": [
    {
     "data": {
      "text/plain": [
       "[12, 99, 27, 99, 9]"
      ]
     },
     "execution_count": 45,
     "metadata": {},
     "output_type": "execute_result"
    }
   ],
   "source": [
    "dorsals = [12,5,27,5,9]\n",
    "nousdorsals = [99 if a == 5 else a for a in dorsals ]\n",
    "nousdorsals"
   ]
  },
  {
   "cell_type": "markdown",
   "id": "016cb49e",
   "metadata": {},
   "source": [
    "14"
   ]
  },
  {
   "cell_type": "code",
   "execution_count": 46,
   "id": "cfbcef65",
   "metadata": {},
   "outputs": [
    {
     "name": "stdout",
     "output_type": "stream",
     "text": [
      "[4, 10, 6, 7, 3, 9]\n",
      "[3, 4, 6, 7, 9, 10]\n"
     ]
    }
   ],
   "source": [
    "notes = [4,10,6,7,3,9]\n",
    "notes2 = sorted(notes)\n",
    "print(notes)\n",
    "print(notes2)"
   ]
  },
  {
   "cell_type": "markdown",
   "id": "1338dd5a",
   "metadata": {},
   "source": [
    "15"
   ]
  },
  {
   "cell_type": "code",
   "execution_count": null,
   "id": "e60e3dab",
   "metadata": {},
   "outputs": [
    {
     "data": {
      "text/plain": [
       "[4, 1, 2, 3]"
      ]
     },
     "execution_count": 42,
     "metadata": {},
     "output_type": "execute_result"
    }
   ],
   "source": [
    "a = [1, 2, 3, 4]\n",
    "\n",
    "popped_item = a.pop(0)\n",
    "a += [popped_item]\n",
    "popped_item = a.pop(0)\n",
    "a += [popped_item]\n",
    "popped_item = a.pop(0)\n",
    "a += [popped_item]\n",
    "a\n"
   ]
  },
  {
   "cell_type": "markdown",
   "id": "6ecccc7d",
   "metadata": {},
   "source": [
    "16"
   ]
  },
  {
   "cell_type": "code",
   "execution_count": 45,
   "id": "850aa220",
   "metadata": {},
   "outputs": [
    {
     "name": "stdout",
     "output_type": "stream",
     "text": [
      "6.5\n"
     ]
    }
   ],
   "source": [
    "notes = [4,10,6,7,3,9]\n",
    "mitjana = sum(notes)/len(notes)\n",
    "print(mitjana)"
   ]
  },
  {
   "cell_type": "markdown",
   "id": "a4d7177e",
   "metadata": {},
   "source": [
    "17"
   ]
  },
  {
   "cell_type": "code",
   "execution_count": 46,
   "id": "b4e20a7d",
   "metadata": {},
   "outputs": [
    {
     "name": "stdout",
     "output_type": "stream",
     "text": [
      "minim: 21, maxim: 25\n"
     ]
    }
   ],
   "source": [
    "temps = [22,21,23,25,24]\n",
    "minim = min(temps)\n",
    "maxim = max(temps)\n",
    "print(f\"minim: {minim}, maxim: {maxim}\")"
   ]
  },
  {
   "cell_type": "markdown",
   "id": "984cc5d7",
   "metadata": {},
   "source": []
  }
 ],
 "metadata": {
  "kernelspec": {
   "display_name": "Python 3",
   "language": "python",
   "name": "python3"
  },
  "language_info": {
   "codemirror_mode": {
    "name": "ipython",
    "version": 3
   },
   "file_extension": ".py",
   "mimetype": "text/x-python",
   "name": "python",
   "nbconvert_exporter": "python",
   "pygments_lexer": "ipython3",
   "version": "3.13.7"
  }
 },
 "nbformat": 4,
 "nbformat_minor": 5
}
