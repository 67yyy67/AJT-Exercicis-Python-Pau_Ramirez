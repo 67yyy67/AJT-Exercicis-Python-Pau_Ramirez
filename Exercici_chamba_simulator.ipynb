{
 "cells": [
  {
   "cell_type": "code",
   "execution_count": 5,
   "id": "f8c5e6d2",
   "metadata": {},
   "outputs": [],
   "source": [
    "db = {\"Tallers\":{101:{\"nom\":\"\", \"tags\":[], \"edat_min\": 0 , \"accessible\": False, \"requereix_material\": False, \"materials\":[], \"sessions\":[] }, \n",
    "                 102:{\"nom\":\"\", \"tags\":[], \"edat_min\": 0 , \"accessible\": False, \"requereix_material\": False, \"materials\":[], \"sessions\":[] }, \n",
    "                 103:{\"nom\":\"\", \"tags\":[], \"edat_min\": 0 , \"accessible\": False, \"requereix_material\": False, \"materials\":[], \"sessions\":[] }, \n",
    "                 \"Sessions\":{}}}"
   ]
  },
  {
   "cell_type": "code",
   "execution_count": null,
   "id": "fddddbb0",
   "metadata": {},
   "outputs": [],
   "source": []
  }
 ],
 "metadata": {
  "kernelspec": {
   "display_name": "Python 3",
   "language": "python",
   "name": "python3"
  },
  "language_info": {
   "codemirror_mode": {
    "name": "ipython",
    "version": 3
   },
   "file_extension": ".py",
   "mimetype": "text/x-python",
   "name": "python",
   "nbconvert_exporter": "python",
   "pygments_lexer": "ipython3",
   "version": "3.13.7"
  }
 },
 "nbformat": 4,
 "nbformat_minor": 5
}
