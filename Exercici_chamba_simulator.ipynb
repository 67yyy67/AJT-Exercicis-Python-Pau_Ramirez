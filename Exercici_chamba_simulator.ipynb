{
 "cells": [
  {
   "cell_type": "code",
   "execution_count": 7,
   "id": "f8c5e6d2",
   "metadata": {},
   "outputs": [
    {
     "name": "stdout",
     "output_type": "stream",
     "text": [
      "9\n",
      "[1, 3]\n",
      "[101]\n",
      "False\n",
      "[1, 2]\n",
      "2\n",
      "['tecnologia', 'natura']\n",
      "[4, 5]\n"
     ]
    }
   ],
   "source": [
    "db = {\"Tallers\":{101:{\"nom\":\"Robòtica amb micro-bits\", \"tags\":[\"tecnologia\", \"infantil\"], \"edat_min\": 10 , \"accessible\": True, \"requereix_material\": True, \"materials\":[\"ordinador\", \"cables\"], \"sessions\":[1, 2] }, \n",
    "                 102:{\"nom\":\"Experiments de química\", \"tags\":[\"ciència\", \"laboratori\"], \"edat_min\": 12 , \"accessible\": False, \"requereix_material\": True, \"materials\":[\"Proveta\"], \"sessions\":[3] }, \n",
    "                 103:{\"nom\":\"Contes de la natura\", \"tags\":[\"natura\", \"familiar\"], \"edat_min\": 6 , \"accessible\": True, \"requereix_material\": False, \"materials\":[\"Llibre\"], \"sessions\":[4, 5] }}, \n",
    "        \"Sessions\":{1: {\"taller_id\": 101, \"dia\":\"2025-11-15\", \"franja\": \"10:00-11:30\", \"espai_id\": 7, \"aforament\": 10,\n",
    "                        \"inscripcions\":\n",
    "                            [{\"persona_id\": 5001, \"inscrit\": True, \"cancelada\" : False, \"preferencies\" : [\"robots\"] }, {\"persona_id\": 5002, \"inscrit\": False, \"cancelada\" : False, \"preferencies\" : [\"quimica\", \"experiments\"] }]},\n",
    "                    2: {\"taller_id\": 101, \"dia\":\"2025-11-16\", \"franja\": \"12:00-13:30\", \"espai_id\": 7, \"aforament\": 11, \n",
    "                        \"inscripcions\": \n",
    "                            [{\"persona_id\": 5004, \"inscrit\": True, \"cancelada\" : False, \"preferencies\" : [\"tecnologia\", \"natura\"] }]}, \n",
    "                    3: {\"taller_id\": 102, \"dia\":\"2025-11-15\", \"franja\": \"11:00-12:00\", \"espai_id\": 8, \"aforament\": 15, \n",
    "                        \"inscripcions\": \n",
    "                            [{\"persona_id\": 5002, \"inscrit\": True, \"cancelada\" : True, \"preferencies\" : [\"quimica\", \"experiments\"] }, {\"persona_id\": 5005, \"inscrit\": True, \"cancelada\" : False, \"preferencies\" : [\"ciencia\"] }]},\n",
    "                    4: {\"taller_id\": 103, \"dia\":\"2025-11-16\", \"franja\": \"17:00-18:00\", \"espai_id\": 9, \"aforament\": 8, \n",
    "                        \"inscripcions\": \n",
    "                            [{\"persona_id\": 5003, \"inscrit\": True, \"cancelada\" : False, \"preferencies\" : [\"contes\"] }, {\"persona_id\": 5006, \"inscrit\": False, \"cancelada\" : False, \"preferencies\" : [\"natura\"] }]},\n",
    "                        \n",
    "                    5: {\"taller_id\": 103, \"dia\":\"2025-11-17\", \"franja\": \"10:00-11:00\", \"espai_id\": 9, \"aforament\": 10, \n",
    "                        \"inscripcions\": \n",
    "                            [{\"persona_id\": 5006, \"inscrit\": True, \"cancelada\" : False, \"preferencies\" : [\"natura\"]  }]}\n",
    "                    }\n",
    "}\n",
    "\n",
    "db[\"Sessions\"][1][\"inscrits_valids\"] = len(db[\"Sessions\"][1][\"inscripcions\"])\n",
    "db[\"Sessions\"][1][\"plaçes_lliures\"] = (db[\"Sessions\"][1][\"aforament\"]-db[\"Sessions\"][1][\"inscrits_valids\"])\n",
    "db[\"Sessions\"][1][\"accesible_sessio\"] = True if (db[\"Sessions\"][1][\"espai_id\"] != 9 and db[\"Tallers\"][db[\"Sessions\"][1][\"taller_id\"]][\"accessible\"] == True) else False\n",
    "db[\"Sessions\"][2][\"inscrits_valids\"] = len(db[\"Sessions\"][2][\"inscripcions\"])\n",
    "db[\"Sessions\"][2][\"plaçes_lliures\"] = (db[\"Sessions\"][2][\"aforament\"]-db[\"Sessions\"][2][\"inscrits_valids\"])\n",
    "db[\"Sessions\"][2][\"accesible_sessio\"] = True if (db[\"Sessions\"][2][\"espai_id\"] != 9 and db[\"Tallers\"][db[\"Sessions\"][2][\"taller_id\"]][\"accessible\"] == True) else False\n",
    "db[\"Sessions\"][3][\"inscrits_valids\"] = len(db[\"Sessions\"][3][\"inscripcions\"])\n",
    "db[\"Sessions\"][3][\"plaçes_lliures\"] = (db[\"Sessions\"][3][\"aforament\"]-db[\"Sessions\"][3][\"inscrits_valids\"])\n",
    "db[\"Sessions\"][3][\"accesible_sessio\"] = True if (db[\"Sessions\"][3][\"espai_id\"] != 9 and db[\"Tallers\"][db[\"Sessions\"][3][\"taller_id\"]][\"accessible\"] == True) else False\n",
    "db[\"Sessions\"][4][\"inscrits_valids\"] = len(db[\"Sessions\"][4][\"inscripcions\"])\n",
    "db[\"Sessions\"][4][\"plaçes_lliures\"] = (db[\"Sessions\"][4][\"aforament\"]-db[\"Sessions\"][4][\"inscrits_valids\"])\n",
    "db[\"Sessions\"][4][\"accesible_sessio\"] = True if (db[\"Sessions\"][4][\"espai_id\"] != 9 and db[\"Tallers\"][db[\"Sessions\"][4][\"taller_id\"]][\"accessible\"] == True) else False\n",
    "db[\"Sessions\"][5][\"inscrits_valids\"] = len(db[\"Sessions\"][5][\"inscripcions\"])\n",
    "db[\"Sessions\"][5][\"plaçes_lliures\"] = (db[\"Sessions\"][5][\"aforament\"]-db[\"Sessions\"][5][\"inscrits_valids\"])\n",
    "db[\"Sessions\"][5][\"accesible_sessio\"] = True if (db[\"Sessions\"][5][\"espai_id\"] != 9 and db[\"Tallers\"][db[\"Sessions\"][5][\"taller_id\"]][\"accessible\"] == True) else False\n",
    "print(db[\"Sessions\"][5][\"plaçes_lliures\"])\n",
    "print([x for x in db[\"Sessions\"].keys() if db[\"Sessions\"][x][\"dia\"] == \"2025-11-15\"])\n",
    "print([x for x in db[\"Tallers\"].keys() if \"tecnologia\" in db[\"Tallers\"][x][\"tags\"]])\n",
    "print(db[\"Sessions\"][3][\"accesible_sessio\"])\n",
    "print([x for x in db[\"Sessions\"].keys() if db[\"Sessions\"][x][\"taller_id\"] == 101])\n",
    "print(db[\"Sessions\"][1][\"inscrits_valids\"])\n",
    "print(db[\"Sessions\"][2][\"inscripcions\"][0][\"preferencies\"])\n",
    "print([x for x in db[\"Sessions\"].keys() for inscripcio in db[\"Sessions\"][x][\"inscripcions\"] if inscripcio[\"persona_id\"] == 5006])\n",
    "\n",
    "\n",
    "\n",
    "\n",
    "\n"
   ]
  }
 ],
 "metadata": {
  "kernelspec": {
   "display_name": "Python 3",
   "language": "python",
   "name": "python3"
  },
  "language_info": {
   "codemirror_mode": {
    "name": "ipython",
    "version": 3
   },
   "file_extension": ".py",
   "mimetype": "text/x-python",
   "name": "python",
   "nbconvert_exporter": "python",
   "pygments_lexer": "ipython3",
   "version": "3.13.7"
  }
 },
 "nbformat": 4,
 "nbformat_minor": 5
}
