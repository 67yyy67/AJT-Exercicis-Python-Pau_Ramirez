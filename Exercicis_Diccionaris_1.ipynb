{
 "cells": [
  {
   "cell_type": "markdown",
   "id": "efb55059",
   "metadata": {},
   "source": [
    "1"
   ]
  },
  {
   "cell_type": "code",
   "execution_count": 6,
   "id": "2b1cc4b1",
   "metadata": {},
   "outputs": [
    {
     "name": "stdout",
     "output_type": "stream",
     "text": [
      "{'marca': 'toyota', 'model': 'Land cruiser', 'any': 1986}\n",
      "Land cruiser\n",
      "{'marca': 'toyota', 'model': 'Land cruiser', 'any': 1985, 'color': 'Oliva'}\n",
      "3\n"
     ]
    },
    {
     "data": {
      "text/plain": [
       "['marca', 'model', 'any']"
      ]
     },
     "execution_count": 6,
     "metadata": {},
     "output_type": "execute_result"
    }
   ],
   "source": [
    "cotxe = {\"marca\" : \"toyota\", \"model\" : \"Land cruiser\", \"any\" : 1986}\n",
    "print(cotxe)\n",
    "print(cotxe[\"model\"])\n",
    "cotxe[\"color\"] = \"Oliva\"\n",
    "cotxe[\"any\"] = 1985\n",
    "print(cotxe)\n",
    "del cotxe[\"color\"]\n",
    "print(len(cotxe))\n",
    "list(cotxe.keys())"
   ]
  },
  {
   "cell_type": "markdown",
   "id": "58e77160",
   "metadata": {},
   "source": [
    "2"
   ]
  },
  {
   "cell_type": "code",
   "execution_count": 14,
   "id": "d5a1ae5d",
   "metadata": {},
   "outputs": [
    {
     "name": "stdout",
     "output_type": "stream",
     "text": [
      "{'nom': 'pepito', 'edat': 15, 'notes': [6, 7, 9, 2, 5, 4]}\n",
      "7\n",
      "{'nom': 'juanjo', 'edat': 15, 'notes': [6, 7, 9, 2, 5, 4]}\n",
      "33\n",
      "5.5\n"
     ]
    }
   ],
   "source": [
    "alumne = {\"nom\" : \"pepito\" , \"edat\" : 15 , \"notes\" : [6, 7, 9, 2, 5]}\n",
    "alumne[\"notes\"].append(4)\n",
    "print(alumne)\n",
    "print(alumne[\"notes\"][1])\n",
    "alumne[\"nom\"] = \"juanjo\"\n",
    "print(alumne)\n",
    "suma = sum(alumne[\"notes\"])\n",
    "mitjana = sum(alumne[\"notes\"])/len(alumne[\"notes\"])\n",
    "print(suma)\n",
    "print(mitjana)"
   ]
  },
  {
   "cell_type": "markdown",
   "id": "898c0349",
   "metadata": {},
   "source": [
    "3"
   ]
  },
  {
   "cell_type": "code",
   "execution_count": 1,
   "id": "232191ce",
   "metadata": {},
   "outputs": [
    {
     "name": "stdout",
     "output_type": "stream",
     "text": [
      "1\n",
      "{'pa': 1, 'sindria': 4, 'pollo 1/2': 5, 'pollo entero': 8, 'coca-cola': 1}\n",
      "['pa', 'sindria', 'pollo 1/2', 'pollo entero', 'coca-cola']\n",
      "[1, 4, 5, 8, 1]\n",
      "8\n"
     ]
    }
   ],
   "source": [
    "preus = {\"pa\" : 1 , \"sindria\" : 4, \"pollo 1/2\" : 5, \"pollo entero\" : 8}\n",
    "print(preus[\"pa\"])\n",
    "preus[\"coca-cola\"] = 1\n",
    "print(preus)\n",
    "productes = [a for a in preus.keys()]\n",
    "print(productes)\n",
    "valors = [a for a in preus.values()]\n",
    "print(valors)\n",
    "print(max(valors))"
   ]
  },
  {
   "cell_type": "markdown",
   "id": "9099cc55",
   "metadata": {},
   "source": [
    "4"
   ]
  },
  {
   "cell_type": "code",
   "execution_count": 4,
   "id": "d3e06629",
   "metadata": {},
   "outputs": [
    {
     "name": "stdout",
     "output_type": "stream",
     "text": [
      "a te a anys, viu a a i el seu numero de telèfon es: a\n"
     ]
    }
   ],
   "source": [
    "nom = input(\"Escriu el teu nom:\")\n",
    "edat = input(\"Escriu la teva Edat(anys):\")\n",
    "adreça = input(\"Escriu la teva Adreça:\")\n",
    "telefon = input(\"Escriu el teu Telèfon:\")\n",
    "print(f\"{nom} te {edat} anys, viu a {adreça} i el seu numero de telèfon es: {telefon}\")"
   ]
  },
  {
   "cell_type": "markdown",
   "id": "c226ba73",
   "metadata": {},
   "source": [
    "5"
   ]
  },
  {
   "cell_type": "code",
   "execution_count": 32,
   "id": "dfc4f2db",
   "metadata": {},
   "outputs": [
    {
     "name": "stdout",
     "output_type": "stream",
     "text": [
      "['Matematiques', 'Fisica', 'Quimica', 'Historia', 'Tecnologia', 'Llengua Castellana', 'Llengua Catalana']\n",
      "Matematiques te 8 credits\n",
      "Fisica te 5 credits\n",
      "Quimica te 3 credits\n",
      "Historia te 6 credits\n",
      "Tecnologia te 4 credits\n",
      "Llengua Castellana te 3 credits\n",
      "Llengua Catalana te 9 credits\n"
     ]
    }
   ],
   "source": [
    "credits = {\"Matematiques\":8, \"Fisica\":5, \"Quimica\": 3, \"Historia\" : 6, \"Tecnologia\":4, \"Llengua Castellana\":3, \"Llengua Catalana\":9}\n",
    "ass = [a for a in credits.keys()]\n",
    "print(ass)\n",
    "print(f\"{ass[0]} te {credits[ass[0]]} credits\")\n",
    "print(f\"{ass[1]} te {credits[ass[1]]} credits\")\n",
    "print(f\"{ass[2]} te {credits[ass[2]]} credits\")\n",
    "print(f\"{ass[3]} te {credits[ass[3]]} credits\")\n",
    "print(f\"{ass[4]} te {credits[ass[4]]} credits\")\n",
    "print(f\"{ass[5]} te {credits[ass[5]]} credits\")\n",
    "print(f\"{ass[6]} te {credits[ass[6]]} credits\")\n",
    "#assignatura = input(\"De quina assignatura voldries revisar els crèdits?\")\n",
    "#print(f\"{assignatura} té {credits[assignatura]} credits\")\n"
   ]
  },
  {
   "cell_type": "markdown",
   "id": "19be7b55",
   "metadata": {},
   "source": [
    "6"
   ]
  },
  {
   "cell_type": "code",
   "execution_count": 40,
   "id": "f01d42bf",
   "metadata": {},
   "outputs": [
    {
     "name": "stdout",
     "output_type": "stream",
     "text": [
      "667233892 C/calàbria, 233 645744455 c/tapioles, 12\n"
     ]
    }
   ],
   "source": [
    "contactes = {\"Juan\":{\"Telefon\":667233892,\"Adreça\": \"C/calàbria, 233\"}, \"Jose Fernandez\": {\"Telefon\":645744455, \"adreça\": \"c/tapioles, 12\"}}\n",
    "print(contactes[\"Juan\"][\"Telefon\"], contactes[\"Juan\"][\"Adreça\"], contactes[\"Jose Fernandez\"][\"Telefon\"], contactes[\"Jose Fernandez\"][\"adreça\"])"
   ]
  },
  {
   "cell_type": "markdown",
   "id": "7417c14d",
   "metadata": {},
   "source": [
    "7"
   ]
  },
  {
   "cell_type": "code",
   "execution_count": 50,
   "id": "aaa965ba",
   "metadata": {},
   "outputs": [
    {
     "name": "stdout",
     "output_type": "stream",
     "text": [
      "{'albert': {'notes': [2, 5, 7, 8, 3, 6], 'edat': 17}, 'joan': {'notes': [5, 8, 9, 8, 10, 6], 'edat': 18}, 'Jordi': {'edat': 15, 'notes': [6, 7, 9, 4, 7, 8]}}\n",
      "6.833333333333333\n"
     ]
    }
   ],
   "source": [
    "classe = {\"albert\":{\"notes\":[2, 5, 7, 8, 3, 6], \"edat\":17}, \"joan\":{\"notes\":[5, 8, 9, 8, 10, 6], \"edat\":18}}\n",
    "classe[\"Jordi\"] = {\"edat\":15, \"notes\":[6, 7, 9, 4, 7, 8]}\n",
    "print(classe)\n",
    "mitjana_jordi = sum(classe[\"Jordi\"][\"notes\"])/len(classe[\"Jordi\"][\"notes\"])\n",
    "print(mitjana_jordi)"
   ]
  }
 ],
 "metadata": {
  "kernelspec": {
   "display_name": "Python 3",
   "language": "python",
   "name": "python3"
  },
  "language_info": {
   "codemirror_mode": {
    "name": "ipython",
    "version": 3
   },
   "file_extension": ".py",
   "mimetype": "text/x-python",
   "name": "python",
   "nbconvert_exporter": "python",
   "pygments_lexer": "ipython3",
   "version": "3.13.7"
  }
 },
 "nbformat": 4,
 "nbformat_minor": 5
}
