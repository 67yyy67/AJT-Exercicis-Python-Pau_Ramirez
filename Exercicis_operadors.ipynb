{
 "cells": [
  {
   "cell_type": "markdown",
   "id": "873c7165",
   "metadata": {},
   "source": [
    "Exercici 1"
   ]
  },
  {
   "cell_type": "code",
   "execution_count": 4,
   "id": "521abd0c",
   "metadata": {},
   "outputs": [
    {
     "name": "stdout",
     "output_type": "stream",
     "text": [
      "False\n",
      "True\n",
      "False\n"
     ]
    }
   ],
   "source": [
    "a = 1\n",
    "b = 0.999999999999999999999999999999999999999999999999999999999999999999999999999999999999999999999999999999999999999999999999999999999999999999999999999999999999999999999999999999999999999999999999999999999999999999999999999999999999999999999999999999999999999999999999999999999999999999999999999999999999999999999999999999999999999999999999999999999999999999999999999999999999999999999999999999999999999999999999999999999999999999999999999999999999999999999999999999999999999999999999999999999999999999999999999999999999999999999999999999999999999999999999999999999999999999999999999999999999999999999999999999999999999999999999999999999999999999999999999999999999999999999999999999999999999999999999999999999999999999999999999999999999999999999999999999999999999999999999999999999999999999999999999999999999999999999999999999999999999999999999999999999999999999999999999999999999999999999999999999999999999999999999999999999999999999999999999999999999999999999999999999999999999999999999999999999999999999999999999999999999999999999999999999999999999999999999999999999999999999999999999999999999999999999999999999999999999999999999999999999999999999999999999999999999999999999999999999999999999999999999999999999999999999999999999999999999999999999999999999999999999999999999999999999999999999999999999999999999999999999999999999999999999999999999999999999999999999999999999999999999999999999999999999999999999999999999999999999999999999999999999999999999999999999999999999999999999999999999999999999999999999999999999999999999999999999999999999999999999999999999999999999999999999999999999999999999999999999999999999999999999999999999999999999999999999999999999999999999\n",
    "print(a > b)\n",
    "print(a == b)\n",
    "print(a != b)"
   ]
  },
  {
   "cell_type": "markdown",
   "id": "7eda767d",
   "metadata": {},
   "source": [
    "Exercici 2"
   ]
  },
  {
   "cell_type": "code",
   "execution_count": 6,
   "id": "7151004f",
   "metadata": {},
   "outputs": [
    {
     "name": "stdout",
     "output_type": "stream",
     "text": [
      "False\n",
      "False\n",
      "True\n",
      "True\n",
      "False\n",
      "True\n",
      "True\n",
      "-------------------------------------------------------------------------------------------------------------------------------------------------------------------------------------\n",
      "True\n",
      "True\n",
      "False\n",
      "False\n",
      "True\n",
      "True\n"
     ]
    }
   ],
   "source": [
    "a = True\n",
    "b = False \n",
    "print ( a and b ) #FALSE\n",
    "print ( not a ) #FALSE\n",
    "print ( not b ) #TRUE\n",
    "print ( a or b ) #TRUE\n",
    "print ( not a or b ) #FALSE\n",
    "print ( a and not b ) #TRUE\n",
    "print ( not ( a and b ) ) #TRUE\n",
    "\n",
    "print(\"-------------------------------------------------------------------------------------------------------------------------------------------------------------------------------------\")\n",
    "\n",
    "a = True\n",
    "b = False\n",
    "c = True\n",
    "print (( a or b )and c ) #TRUE\n",
    "print (( a and b ) or c ) #TRUE\n",
    "print (( a and b )and c ) #FALSE\n",
    "print ( not ( a or b ) and c ) #FALSE\n",
    "print (( a and not b ) and c ) #TRUE\n",
    "print ( not (( a or b ) and not c ) ) #TRUE"
   ]
  },
  {
   "cell_type": "markdown",
   "id": "2032dadc",
   "metadata": {},
   "source": [
    "Exercici 3"
   ]
  },
  {
   "cell_type": "code",
   "execution_count": 10,
   "id": "fce0e605",
   "metadata": {},
   "outputs": [
    {
     "name": "stdout",
     "output_type": "stream",
     "text": [
      "no pots passar\n"
     ]
    }
   ],
   "source": [
    "te_clau = False\n",
    "porta_tancada = True\n",
    "if te_clau or not porta_tancada:\n",
    "    print(\"pots passar\")\n",
    "else:\n",
    "    print(\"no pots passar\")"
   ]
  },
  {
   "cell_type": "markdown",
   "id": "e25764a7",
   "metadata": {},
   "source": [
    "Exercici 4"
   ]
  },
  {
   "cell_type": "code",
   "execution_count": 21,
   "id": "6d5f2722",
   "metadata": {},
   "outputs": [
    {
     "name": "stdout",
     "output_type": "stream",
     "text": [
      "x NO está entre -5/3 i pi\n"
     ]
    }
   ],
   "source": [
    "import math\n",
    "x = float(input(\"dona un nombre qualsevol\"))\n",
    "if (-5/3) <= x < math.pi:\n",
    "    print(\"x está entre -5/3 i pi\")\n",
    "else:\n",
    "    print(\"x NO está entre -5/3 i pi\")"
   ]
  },
  {
   "cell_type": "markdown",
   "id": "6dd89ee3",
   "metadata": {},
   "source": [
    "Exercici 5"
   ]
  },
  {
   "cell_type": "code",
   "execution_count": 24,
   "id": "fe64aca4",
   "metadata": {},
   "outputs": [
    {
     "name": "stdout",
     "output_type": "stream",
     "text": [
      "el nombre seleccionat es positiu, ja que es major que 0\n"
     ]
    }
   ],
   "source": [
    "import math\n",
    "x = float(input(\"dona un nombre qualsevol\"))\n",
    "if x == 0:\n",
    "    print(\"el nombre seleccionat es 0\")\n",
    "elif x > 0:\n",
    "    print(\"el nombre seleccionat es positiu, ja que es major que 0\")\n",
    "elif x < 0:\n",
    "    print(\"el nombre seleccionat es negatiu, ja que es menor que 0\")\n",
    "else:\n",
    "    print(\"XD\")"
   ]
  },
  {
   "cell_type": "markdown",
   "id": "5c2bf2c6",
   "metadata": {},
   "source": [
    "Exercici 6"
   ]
  },
  {
   "cell_type": "code",
   "execution_count": 26,
   "id": "c902684f",
   "metadata": {},
   "outputs": [
    {
     "name": "stdout",
     "output_type": "stream",
     "text": [
      "ets menor d'edat\n"
     ]
    }
   ],
   "source": [
    "x = float(input(\"digues la teva edat (anys)\"))\n",
    "if 0 < x < 18:\n",
    "    print(\"ets menor d'edat\")\n",
    "elif x > 18:\n",
    "    print(\"ets major d'edat\")\n",
    "else:\n",
    "    print(\"XD\")"
   ]
  },
  {
   "cell_type": "markdown",
   "id": "5af3877c",
   "metadata": {},
   "source": [
    "Exercici 7"
   ]
  },
  {
   "cell_type": "code",
   "execution_count": null,
   "id": "1e064699",
   "metadata": {},
   "outputs": [],
   "source": []
  }
 ],
 "metadata": {
  "kernelspec": {
   "display_name": "Python 3",
   "language": "python",
   "name": "python3"
  },
  "language_info": {
   "codemirror_mode": {
    "name": "ipython",
    "version": 3
   },
   "file_extension": ".py",
   "mimetype": "text/x-python",
   "name": "python",
   "nbconvert_exporter": "python",
   "pygments_lexer": "ipython3",
   "version": "3.13.7"
  }
 },
 "nbformat": 4,
 "nbformat_minor": 5
}
